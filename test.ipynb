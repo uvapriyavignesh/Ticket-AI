{
 "cells": [
  {
   "cell_type": "code",
   "execution_count": 229,
   "metadata": {},
   "outputs": [],
   "source": [
    "result_map={\n",
    "    1:'critical', 2:'high', 3:'medium', 4:'low', 5:'active', 6:'pause', 7:'resolved', 8:'close', 9:'delete', 10:'escalate', 11:'internal', 12:'billable', 13:'respond', 14:'overdue',15:'unassign',16:'addon',17:'without addon',\n",
    "}"
   ]
  },
  {
   "cell_type": "code",
   "execution_count": 230,
   "metadata": {},
   "outputs": [],
   "source": [
    "file1=open('C:\\\\Toothless\\\\data\\\\filter_date_2.csv','r')\n",
    "data=file1.readlines()\n",
    "file1.close()"
   ]
  },
  {
   "cell_type": "code",
   "execution_count": 231,
   "metadata": {},
   "outputs": [
    {
     "data": {
      "text/plain": [
       "'text,status\\n'"
      ]
     },
     "execution_count": 231,
     "metadata": {},
     "output_type": "execute_result"
    }
   ],
   "source": [
    "data.pop(0)\n"
   ]
  },
  {
   "cell_type": "code",
   "execution_count": 232,
   "metadata": {},
   "outputs": [],
   "source": [
    "open_data=[]\n",
    "\n",
    "for i in data:\n",
    "    if i.__contains__('open'):\n",
    "        if not i.__contains__('\\\"'):\n",
    "            open_data.append(i)"
   ]
  },
  {
   "cell_type": "code",
   "execution_count": 234,
   "metadata": {},
   "outputs": [
    {
     "data": {
      "text/plain": [
       "697"
      ]
     },
     "execution_count": 234,
     "metadata": {},
     "output_type": "execute_result"
    }
   ],
   "source": [
    "len(open_data)\n",
    "    "
   ]
  },
  {
   "cell_type": "code",
   "execution_count": 272,
   "metadata": {},
   "outputs": [],
   "source": [
    "import random\n",
    "range_list=[i for i in range(17)]\n",
    "def get_random(size):\n",
    "    if size==0:\n",
    "        size=size+1\n",
    "    random.shuffle(range_list)\n",
    "    return [i+1 for i in range_list[:size-1]]\n",
    "\n",
    "def get_string():\n",
    "    out_put=[0,0,0,0,0,0,0,0,0,0,0,0,0,0,0,0,0]\n",
    "    li= get_random(range_list[0])\n",
    "    result=''\n",
    "    for i in li:\n",
    "        result=result+\" \"+result_map.get(i)\n",
    "        out_put[i-1]=1\n",
    "    return result,\"$\".join([str(i) for i in out_put])\n",
    "    \n",
    "\n",
    "\n",
    "\n",
    "\n"
   ]
  },
  {
   "cell_type": "code",
   "execution_count": 260,
   "metadata": {},
   "outputs": [],
   "source": [
    "final_list=[]"
   ]
  },
  {
   "cell_type": "code",
   "execution_count": 274,
   "metadata": {},
   "outputs": [],
   "source": [
    "for i in open_data:\n",
    "    string,out_put_list=get_string()\n",
    "    # i=\"\\\"\"+i\n",
    "    i=i.replace('open',string)\n",
    "    temp=i.split(\",\")\n",
    "    # temp[-2]=temp[-2]+\"\\\"\"\n",
    "    temp[-1]=out_put_list\n",
    "    \n",
    "    final_list.append(\",\".join(temp))\n",
    "    \n",
    "    "
   ]
  },
  {
   "cell_type": "code",
   "execution_count": 223,
   "metadata": {},
   "outputs": [
    {
     "data": {
      "text/plain": [
       "'\"attain the satisfactorily ,low,active,critical,without addon,addon,close,delete,resolved,overdue issues in logs\",1$0$0$1$1$0$1$1$1$0$0$0$0$1$0$1$1'"
      ]
     },
     "execution_count": 223,
     "metadata": {},
     "output_type": "execute_result"
    }
   ],
   "source": [
    "final_list[7]"
   ]
  },
  {
   "cell_type": "code",
   "execution_count": 275,
   "metadata": {},
   "outputs": [],
   "source": [
    "for j,i in enumerate(final_list):\n",
    "    if i.__contains__('0$0$0$0$0$0$0$0$0$0$0$0$0$0$0$0$0'):\n",
    "        final_list.pop(j)\n",
    "    "
   ]
  },
  {
   "cell_type": "code",
   "execution_count": 276,
   "metadata": {},
   "outputs": [],
   "source": [
    "no_dup=tuple(i for i in final_list)"
   ]
  },
  {
   "cell_type": "code",
   "execution_count": 277,
   "metadata": {},
   "outputs": [
    {
     "data": {
      "text/plain": [
       "6929"
      ]
     },
     "execution_count": 277,
     "metadata": {},
     "output_type": "execute_result"
    }
   ],
   "source": [
    "len(no_dup)"
   ]
  },
  {
   "cell_type": "code",
   "execution_count": 279,
   "metadata": {},
   "outputs": [],
   "source": [
    "fileee=open('C:\\\\Toothless\\\\processed_data.csv','a')\n",
    "for i in no_dup:\n",
    "    i=i.strip()\n",
    "    fileee.write(i+\"\\n\")"
   ]
  },
  {
   "cell_type": "code",
   "execution_count": 126,
   "metadata": {},
   "outputs": [
    {
     "name": "stdout",
     "output_type": "stream",
     "text": [
      "kdfs\n"
     ]
    }
   ],
   "source": [
    "sam33=' kdfs'\n",
    "print(sam33.strip())"
   ]
  }
 ],
 "metadata": {
  "kernelspec": {
   "display_name": ".venv",
   "language": "python",
   "name": "python3"
  },
  "language_info": {
   "codemirror_mode": {
    "name": "ipython",
    "version": 3
   },
   "file_extension": ".py",
   "mimetype": "text/x-python",
   "name": "python",
   "nbconvert_exporter": "python",
   "pygments_lexer": "ipython3",
   "version": "3.12.2"
  }
 },
 "nbformat": 4,
 "nbformat_minor": 2
}
